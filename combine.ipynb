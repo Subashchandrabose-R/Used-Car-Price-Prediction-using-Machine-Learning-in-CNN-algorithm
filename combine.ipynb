{
 "cells": [
  {
   "cell_type": "code",
   "execution_count": 1,
   "id": "afc4338c-3e1a-4e1b-b5b8-1d53cf67025b",
   "metadata": {},
   "outputs": [
    {
     "name": "stdout",
     "output_type": "stream",
     "text": [
      "WARNING  Python>=3.10 is required, but Python==3.8.0 is currently installed \n",
      "New https://pypi.org/project/ultralytics/8.3.28 available  Update with 'pip install -U ultralytics'\n",
      "Ultralytics 8.3.21  Python-3.8.0 torch-2.4.1+cpu CPU (Intel Core(TM) i9-14900K)\n",
      "\u001b[34m\u001b[1mengine\\trainer: \u001b[0mtask=detect, mode=train, model=yolov8n.pt, data=F:\\ABDUL\\ABDUL 2024\\CAR_PRICE_PRE_ BASED_CAR_DAMAGE_DEC\\car_price\\COMBINE\\Dataset\\data.yaml, epochs=10, time=None, patience=100, batch=16, imgsz=640, save=True, save_period=-1, cache=False, device=None, workers=8, project=None, name=train2, exist_ok=False, pretrained=True, optimizer=auto, verbose=True, seed=0, deterministic=True, single_cls=False, rect=False, cos_lr=False, close_mosaic=10, resume=False, amp=True, fraction=1.0, profile=False, freeze=None, multi_scale=False, overlap_mask=True, mask_ratio=4, dropout=0.0, val=True, split=val, save_json=False, save_hybrid=False, conf=None, iou=0.7, max_det=300, half=False, dnn=False, plots=True, source=None, vid_stride=1, stream_buffer=False, visualize=False, augment=False, agnostic_nms=False, classes=None, retina_masks=False, embed=None, show=False, save_frames=False, save_txt=False, save_conf=False, save_crop=False, show_labels=True, show_conf=True, show_boxes=True, line_width=None, format=torchscript, keras=False, optimize=False, int8=False, dynamic=False, simplify=True, opset=None, workspace=4, nms=False, lr0=0.01, lrf=0.01, momentum=0.937, weight_decay=0.0005, warmup_epochs=3.0, warmup_momentum=0.8, warmup_bias_lr=0.1, box=7.5, cls=0.5, dfl=1.5, pose=12.0, kobj=1.0, label_smoothing=0.0, nbs=64, hsv_h=0.015, hsv_s=0.7, hsv_v=0.4, degrees=0.0, translate=0.1, scale=0.5, shear=0.0, perspective=0.0, flipud=0.0, fliplr=0.5, bgr=0.0, mosaic=1.0, mixup=0.0, copy_paste=0.0, copy_paste_mode=flip, auto_augment=randaugment, erasing=0.4, crop_fraction=1.0, cfg=None, tracker=botsort.yaml, save_dir=runs\\detect\\train2\n",
      "Overriding model.yaml nc=80 with nc=17\n",
      "\n",
      "                   from  n    params  module                                       arguments                     \n",
      "  0                  -1  1       464  ultralytics.nn.modules.conv.Conv             [3, 16, 3, 2]                 \n",
      "  1                  -1  1      4672  ultralytics.nn.modules.conv.Conv             [16, 32, 3, 2]                \n",
      "  2                  -1  1      7360  ultralytics.nn.modules.block.C2f             [32, 32, 1, True]             \n",
      "  3                  -1  1     18560  ultralytics.nn.modules.conv.Conv             [32, 64, 3, 2]                \n",
      "  4                  -1  2     49664  ultralytics.nn.modules.block.C2f             [64, 64, 2, True]             \n",
      "  5                  -1  1     73984  ultralytics.nn.modules.conv.Conv             [64, 128, 3, 2]               \n",
      "  6                  -1  2    197632  ultralytics.nn.modules.block.C2f             [128, 128, 2, True]           \n",
      "  7                  -1  1    295424  ultralytics.nn.modules.conv.Conv             [128, 256, 3, 2]              \n",
      "  8                  -1  1    460288  ultralytics.nn.modules.block.C2f             [256, 256, 1, True]           \n",
      "  9                  -1  1    164608  ultralytics.nn.modules.block.SPPF            [256, 256, 5]                 \n",
      " 10                  -1  1         0  torch.nn.modules.upsampling.Upsample         [None, 2, 'nearest']          \n",
      " 11             [-1, 6]  1         0  ultralytics.nn.modules.conv.Concat           [1]                           \n",
      " 12                  -1  1    148224  ultralytics.nn.modules.block.C2f             [384, 128, 1]                 \n",
      " 13                  -1  1         0  torch.nn.modules.upsampling.Upsample         [None, 2, 'nearest']          \n",
      " 14             [-1, 4]  1         0  ultralytics.nn.modules.conv.Concat           [1]                           \n",
      " 15                  -1  1     37248  ultralytics.nn.modules.block.C2f             [192, 64, 1]                  \n",
      " 16                  -1  1     36992  ultralytics.nn.modules.conv.Conv             [64, 64, 3, 2]                \n",
      " 17            [-1, 12]  1         0  ultralytics.nn.modules.conv.Concat           [1]                           \n",
      " 18                  -1  1    123648  ultralytics.nn.modules.block.C2f             [192, 128, 1]                 \n",
      " 19                  -1  1    147712  ultralytics.nn.modules.conv.Conv             [128, 128, 3, 2]              \n",
      " 20             [-1, 9]  1         0  ultralytics.nn.modules.conv.Concat           [1]                           \n",
      " 21                  -1  1    493056  ultralytics.nn.modules.block.C2f             [384, 256, 1]                 \n",
      " 22        [15, 18, 21]  1    754627  ultralytics.nn.modules.head.Detect           [17, [64, 128, 256]]          \n",
      "Model summary: 225 layers, 3,014,163 parameters, 3,014,147 gradients, 8.2 GFLOPs\n",
      "\n",
      "Transferred 319/355 items from pretrained weights\n",
      "\u001b[34m\u001b[1mTensorBoard: \u001b[0mStart with 'tensorboard --logdir runs\\detect\\train2', view at http://localhost:6006/\n",
      "Freezing layer 'model.22.dfl.conv.weight'\n"
     ]
    },
    {
     "name": "stderr",
     "output_type": "stream",
     "text": [
      "\u001b[34m\u001b[1mtrain: \u001b[0mScanning F:\\ABDUL\\ABDUL 2024\\CAR_PRICE_PRE_ BASED_CAR_DAMAGE_DEC\\car_price\\COMBINE\\Dataset\\train\\labels.cache...\u001b[0m\n",
      "\u001b[34m\u001b[1mval: \u001b[0mScanning F:\\ABDUL\\ABDUL 2024\\CAR_PRICE_PRE_ BASED_CAR_DAMAGE_DEC\\car_price\\COMBINE\\Dataset\\valid\\labels.cache... 6\u001b[0m\n"
     ]
    },
    {
     "name": "stdout",
     "output_type": "stream",
     "text": [
      "Plotting labels to runs\\detect\\train2\\labels.jpg... \n",
      "\u001b[34m\u001b[1moptimizer:\u001b[0m 'optimizer=auto' found, ignoring 'lr0=0.01' and 'momentum=0.937' and determining best 'optimizer', 'lr0' and 'momentum' automatically... \n",
      "\u001b[34m\u001b[1moptimizer:\u001b[0m AdamW(lr=0.000476, momentum=0.9) with parameter groups 57 weight(decay=0.0), 64 weight(decay=0.0005), 63 bias(decay=0.0)\n",
      "\u001b[34m\u001b[1mTensorBoard: \u001b[0mmodel graph visualization added \n",
      "Image sizes 640 train, 640 val\n",
      "Using 0 dataloader workers\n",
      "Logging results to \u001b[1mruns\\detect\\train2\u001b[0m\n",
      "Starting training for 10 epochs...\n",
      "Closing dataloader mosaic\n",
      "\n",
      "      Epoch    GPU_mem   box_loss   cls_loss   dfl_loss  Instances       Size\n"
     ]
    },
    {
     "name": "stderr",
     "output_type": "stream",
     "text": [
      "       1/10         0G      1.952      4.707       2.21          8        640: 100%|██████████| 145/145 [06:37<00:00,  \n",
      "                 Class     Images  Instances      Box(P          R      mAP50  mAP50-95): 100%|██████████| 22/22 [00:35"
     ]
    },
    {
     "name": "stdout",
     "output_type": "stream",
     "text": [
      "                   all        679       1054      0.688     0.0802     0.0521     0.0199\n"
     ]
    },
    {
     "name": "stderr",
     "output_type": "stream",
     "text": [
      "\n"
     ]
    },
    {
     "name": "stdout",
     "output_type": "stream",
     "text": [
      "\n",
      "      Epoch    GPU_mem   box_loss   cls_loss   dfl_loss  Instances       Size\n"
     ]
    },
    {
     "name": "stderr",
     "output_type": "stream",
     "text": [
      "       2/10         0G      1.865      3.889      2.072         14        640: 100%|██████████| 145/145 [06:29<00:00,  \n",
      "                 Class     Images  Instances      Box(P          R      mAP50  mAP50-95): 100%|██████████| 22/22 [00:34"
     ]
    },
    {
     "name": "stdout",
     "output_type": "stream",
     "text": [
      "                   all        679       1054      0.452      0.156      0.121     0.0538\n"
     ]
    },
    {
     "name": "stderr",
     "output_type": "stream",
     "text": [
      "\n"
     ]
    },
    {
     "name": "stdout",
     "output_type": "stream",
     "text": [
      "\n",
      "      Epoch    GPU_mem   box_loss   cls_loss   dfl_loss  Instances       Size\n"
     ]
    },
    {
     "name": "stderr",
     "output_type": "stream",
     "text": [
      "       3/10         0G      1.836      3.519       2.02         10        640: 100%|██████████| 145/145 [04:55<00:00,  \n",
      "                 Class     Images  Instances      Box(P          R      mAP50  mAP50-95): 100%|██████████| 22/22 [00:23\n"
     ]
    },
    {
     "name": "stdout",
     "output_type": "stream",
     "text": [
      "                   all        679       1054      0.464      0.197      0.127     0.0571\n",
      "\n",
      "      Epoch    GPU_mem   box_loss   cls_loss   dfl_loss  Instances       Size\n"
     ]
    },
    {
     "name": "stderr",
     "output_type": "stream",
     "text": [
      "       4/10         0G       1.81      3.245      1.985         15        640: 100%|██████████| 145/145 [04:12<00:00,  \n",
      "                 Class     Images  Instances      Box(P          R      mAP50  mAP50-95): 100%|██████████| 22/22 [00:22"
     ]
    },
    {
     "name": "stdout",
     "output_type": "stream",
     "text": [
      "                   all        679       1054      0.465      0.215      0.164     0.0701\n"
     ]
    },
    {
     "name": "stderr",
     "output_type": "stream",
     "text": [
      "\n"
     ]
    },
    {
     "name": "stdout",
     "output_type": "stream",
     "text": [
      "\n",
      "      Epoch    GPU_mem   box_loss   cls_loss   dfl_loss  Instances       Size\n"
     ]
    },
    {
     "name": "stderr",
     "output_type": "stream",
     "text": [
      "       5/10         0G      1.774       3.01      1.957         10        640: 100%|██████████| 145/145 [04:08<00:00,  \n",
      "                 Class     Images  Instances      Box(P          R      mAP50  mAP50-95): 100%|██████████| 22/22 [00:22"
     ]
    },
    {
     "name": "stdout",
     "output_type": "stream",
     "text": [
      "                   all        679       1054      0.477      0.265      0.236      0.102\n"
     ]
    },
    {
     "name": "stderr",
     "output_type": "stream",
     "text": [
      "\n"
     ]
    },
    {
     "name": "stdout",
     "output_type": "stream",
     "text": [
      "\n",
      "      Epoch    GPU_mem   box_loss   cls_loss   dfl_loss  Instances       Size\n"
     ]
    },
    {
     "name": "stderr",
     "output_type": "stream",
     "text": [
      "       6/10         0G       1.76      2.806      1.911         13        640: 100%|██████████| 145/145 [04:17<00:00,  \n",
      "                 Class     Images  Instances      Box(P          R      mAP50  mAP50-95): 100%|██████████| 22/22 [00:23"
     ]
    },
    {
     "name": "stdout",
     "output_type": "stream",
     "text": [
      "                   all        679       1054      0.459      0.279      0.241      0.107\n"
     ]
    },
    {
     "name": "stderr",
     "output_type": "stream",
     "text": [
      "\n"
     ]
    },
    {
     "name": "stdout",
     "output_type": "stream",
     "text": [
      "\n",
      "      Epoch    GPU_mem   box_loss   cls_loss   dfl_loss  Instances       Size\n"
     ]
    },
    {
     "name": "stderr",
     "output_type": "stream",
     "text": [
      "       7/10         0G      1.711      2.635      1.878         12        640: 100%|██████████| 145/145 [04:23<00:00,  \n",
      "                 Class     Images  Instances      Box(P          R      mAP50  mAP50-95): 100%|██████████| 22/22 [00:22"
     ]
    },
    {
     "name": "stdout",
     "output_type": "stream",
     "text": [
      "                   all        679       1054      0.392      0.291      0.278      0.126\n"
     ]
    },
    {
     "name": "stderr",
     "output_type": "stream",
     "text": [
      "\n"
     ]
    },
    {
     "name": "stdout",
     "output_type": "stream",
     "text": [
      "\n",
      "      Epoch    GPU_mem   box_loss   cls_loss   dfl_loss  Instances       Size\n"
     ]
    },
    {
     "name": "stderr",
     "output_type": "stream",
     "text": [
      "       8/10         0G       1.68      2.494      1.835          8        640: 100%|██████████| 145/145 [04:23<00:00,  \n",
      "                 Class     Images  Instances      Box(P          R      mAP50  mAP50-95): 100%|██████████| 22/22 [00:22"
     ]
    },
    {
     "name": "stdout",
     "output_type": "stream",
     "text": [
      "                   all        679       1054      0.406      0.307      0.298      0.132\n"
     ]
    },
    {
     "name": "stderr",
     "output_type": "stream",
     "text": [
      "\n"
     ]
    },
    {
     "name": "stdout",
     "output_type": "stream",
     "text": [
      "\n",
      "      Epoch    GPU_mem   box_loss   cls_loss   dfl_loss  Instances       Size\n"
     ]
    },
    {
     "name": "stderr",
     "output_type": "stream",
     "text": [
      "       9/10         0G      1.637       2.37      1.811         12        640: 100%|██████████| 145/145 [04:30<00:00,  \n",
      "                 Class     Images  Instances      Box(P          R      mAP50  mAP50-95): 100%|██████████| 22/22 [00:22"
     ]
    },
    {
     "name": "stdout",
     "output_type": "stream",
     "text": [
      "                   all        679       1054      0.371       0.36      0.327      0.148\n"
     ]
    },
    {
     "name": "stderr",
     "output_type": "stream",
     "text": [
      "\n"
     ]
    },
    {
     "name": "stdout",
     "output_type": "stream",
     "text": [
      "\n",
      "      Epoch    GPU_mem   box_loss   cls_loss   dfl_loss  Instances       Size\n"
     ]
    },
    {
     "name": "stderr",
     "output_type": "stream",
     "text": [
      "      10/10         0G      1.593      2.251      1.756          9        640: 100%|██████████| 145/145 [04:36<00:00,  \n",
      "                 Class     Images  Instances      Box(P          R      mAP50  mAP50-95): 100%|██████████| 22/22 [00:23"
     ]
    },
    {
     "name": "stdout",
     "output_type": "stream",
     "text": [
      "                   all        679       1054       0.37      0.384      0.349      0.158\n"
     ]
    },
    {
     "name": "stderr",
     "output_type": "stream",
     "text": [
      "\n"
     ]
    },
    {
     "name": "stdout",
     "output_type": "stream",
     "text": [
      "\n",
      "10 epochs completed in 0.882 hours.\n",
      "Optimizer stripped from runs\\detect\\train2\\weights\\last.pt, 6.2MB\n",
      "Optimizer stripped from runs\\detect\\train2\\weights\\best.pt, 6.2MB\n",
      "\n",
      "Validating runs\\detect\\train2\\weights\\best.pt...\n",
      "Ultralytics 8.3.21  Python-3.8.0 torch-2.4.1+cpu CPU (Intel Core(TM) i9-14900K)\n",
      "Model summary (fused): 168 layers, 3,008,963 parameters, 0 gradients, 8.1 GFLOPs\n"
     ]
    },
    {
     "name": "stderr",
     "output_type": "stream",
     "text": [
      "                 Class     Images  Instances      Box(P          R      mAP50  mAP50-95): 100%|██████████| 22/22 [00:18\n"
     ]
    },
    {
     "name": "stdout",
     "output_type": "stream",
     "text": [
      "                   all        679       1054      0.371      0.384      0.351      0.158\n",
      "Front-Windscreen-Damage         32         33      0.387      0.424      0.402      0.184\n",
      "      Headlight-Damage         64         68      0.299      0.441       0.37      0.175\n",
      "Rear-windscreen-Damage         50         51      0.667      0.706      0.718      0.368\n",
      "     RunningBoard-Dent         25         30      0.228      0.167      0.151     0.0429\n",
      "     Sidemirror-Damage         26         26        0.7      0.538      0.625      0.347\n",
      "      Signlight-Damage          5          5          0          0    0.00637    0.00285\n",
      "      Taillight-Damage         31         31      0.642      0.548       0.62      0.312\n",
      "           bonnet-dent        148        152      0.582       0.73      0.689       0.31\n",
      "             boot-dent         20         20      0.458      0.129      0.115     0.0367\n",
      "        doorouter-dent        113        142       0.35      0.671      0.503      0.221\n",
      "           fender-dent        111        111      0.333      0.405      0.335      0.109\n",
      "     front-bumper-dent        187        195      0.434      0.518      0.439      0.176\n",
      "           pillar-dent          5          5          0          0          0          0\n",
      "      quaterpanel-dent         60         60      0.293      0.367      0.271     0.0897\n",
      "      rear-bumper-dent         98        100      0.381      0.425      0.295      0.126\n",
      "             roof-dent         23         25      0.179       0.08     0.0828     0.0313\n",
      "Speed: 0.8ms preprocess, 22.5ms inference, 0.0ms loss, 0.3ms postprocess per image\n",
      "Results saved to \u001b[1mruns\\detect\\train2\u001b[0m\n"
     ]
    }
   ],
   "source": [
    "from ultralytics import YOLO\n",
    "import pandas as pd\n",
    "from sklearn.model_selection import train_test_split\n",
    "from sklearn.ensemble import RandomForestRegressor\n",
    "from sklearn.metrics import mean_absolute_error, r2_score\n",
    "import joblib\n",
    "\n",
    "\n",
    "# ------------------ Part 1: YOLO Model for Damage Detection ------------------\n",
    "\n",
    "# Load a pre-trained YOLO model\n",
    "model = YOLO(\"yolov8n.pt\")\n",
    "\n",
    "# Train the model on your custom dataset\n",
    "results = model.train(data=r\"F:\\ABDUL\\ABDUL 2024\\CAR_PRICE_PRE_ BASED_CAR_DAMAGE_DEC\\car_price\\COMBINE\\Dataset\\data.yaml\", epochs=10)\n",
    "\n",
    "# Save the best weights\n",
    "model.save(\"best_damage_detection_model.pt\")\n",
    "\n",
    "def detect_damages(image_path):\n",
    "    \"\"\"\n",
    "    Detect damages from the car image using a trained YOLO model.\n",
    "    \n",
    "    Args:\n",
    "    - image_path (str): Path to the image file.\n",
    "\n",
    "    Returns:\n",
    "    - damage_count (int): Number of detected damages.\n",
    "    \"\"\"\n",
    "    infer = YOLO(\"best_damage_detection_model.pt\")\n",
    "    results = infer.predict(image_path)\n",
    "    # Extract damage information from results (e.g., count of damages)\n",
    "    damage_count = len(results[0].boxes)  # Assuming boxes contain detected damages\n",
    "    return damage_count\n",
    "\n",
    "\n",
    "# ------------------ Part 2: Car Price Prediction with Random Forest ------------------\n",
    "\n",
    "# Load dataset\n",
    "df = pd.read_csv('Car_price.csv')\n",
    "\n",
    "# Drop non-predictive columns and preprocess data\n",
    "df.drop(columns=['name'], inplace=True)\n",
    "categorical_cols = ['fuel', 'seller_type', 'transmission', 'owner']\n",
    "df = pd.get_dummies(df, columns=categorical_cols, drop_first=True)\n",
    "\n",
    "# Convert features to numerical values and handle missing values\n",
    "df['mileage'] = df['mileage'].str.extract('(\\d+\\.\\d+|\\d+)').astype(float)\n",
    "df['engine'] = df['engine'].str.extract('(\\d+)').astype(float)\n",
    "df['max_power'] = df['max_power'].str.extract('(\\d+\\.\\d+|\\d+)').astype(float)\n",
    "df['torque'] = df['torque'].str.extract('(\\d+\\.\\d+|\\d+)').astype(float)\n",
    "df.fillna(df.median(), inplace=True)\n",
    "\n",
    "# Define features and target variable\n",
    "X = df.drop(columns=['selling_price'])\n",
    "y = df['selling_price']\n",
    "\n",
    "# Split data into training and testing sets\n",
    "X_train, X_test, y_train, y_test = train_test_split(X, y, test_size=0.2, random_state=42)\n",
    "\n",
    "# Train Random Forest model\n",
    "model_rf = RandomForestRegressor(random_state=42)\n",
    "model_rf.fit(X_train, y_train)\n",
    "\n",
    "# Save the model to a file\n",
    "joblib.dump(model_rf, 'car_price_model.pkl')\n",
    "\n",
    "\n",
    "# ------------------ Part 3: Preprocess and Predict Car Price ------------------\n",
    "\n",
    "def preprocess_and_predict(input_data):\n",
    "    \"\"\"\n",
    "    Preprocess the input data and predict the car price using the trained Random Forest model.\n",
    "    \n",
    "    Args:\n",
    "    - input_data (dict): Input data for prediction.\n",
    "\n",
    "    Returns:\n",
    "    - predicted_price (float): Predicted car price.\n",
    "    \"\"\"\n",
    "    # Load the pre-trained Random Forest model\n",
    "    model_rf = joblib.load('car_price_model.pkl')\n",
    "\n",
    "    # Process input data similar to training data preprocessing\n",
    "    df_input = pd.DataFrame([input_data])\n",
    "    categorical_cols = ['fuel', 'seller_type', 'transmission', 'owner']\n",
    "    df_input = pd.get_dummies(df_input, columns=categorical_cols, drop_first=True)\n",
    "\n",
    "    # Convert features to numerical values and handle missing values as done in training\n",
    "    df_input['mileage'] = df_input['mileage'].str.extract('(\\d+\\.\\d+|\\d+)').astype(float)\n",
    "    df_input['engine'] = df_input['engine'].str.extract('(\\d+)').astype(float)\n",
    "    df_input['max_power'] = df_input['max_power'].str.extract('(\\d+\\.\\d+|\\d+)').astype(float)\n",
    "    df_input['torque'] = df_input['torque'].str.extract('(\\d+\\.\\d+|\\d+)').astype(float)\n",
    "    df_input.fillna(df_input.median(), inplace=True)\n",
    "\n",
    "    # Ensure all columns used during training are present in the input data\n",
    "    missing_cols = set(X.columns) - set(df_input.columns)\n",
    "    for col in missing_cols:\n",
    "        df_input[col] = 0\n",
    "\n",
    "    # Reorder columns to match the model's input structure\n",
    "    df_input = df_input[X.columns]\n",
    "\n",
    "    # Make predictions for car price based on input data\n",
    "    predicted_price = model_rf.predict(df_input)[0]\n",
    "    \n",
    "    return predicted_price\n"
   ]
  },
  {
   "cell_type": "code",
   "execution_count": 2,
   "id": "fd68825d-162e-4dc9-ae1b-493c5ecd5d61",
   "metadata": {},
   "outputs": [
    {
     "name": "stdout",
     "output_type": "stream",
     "text": [
      "\n",
      "Downloading https://c8.alamy.com/comp/C05MX1/accident-damage-on-a-car-after-an-accident-C05MX1.jpg to 'accident-damage-on-a-car-after-an-accident-C05MX1.jpg'...\n"
     ]
    },
    {
     "name": "stderr",
     "output_type": "stream",
     "text": [
      "183kB [00:00, 830kB/s]"
     ]
    },
    {
     "name": "stdout",
     "output_type": "stream",
     "text": [
      "image 1/1 F:\\ABDUL\\ABDUL 2024\\CAR_PRICE_PRE_ BASED_CAR_DAMAGE_DEC\\car_price\\COMBINE\\accident-damage-on-a-car-after-an-accident-C05MX1.jpg: 480x640 3 doorouter-dents, 45.0ms\n",
      "Speed: 3.0ms preprocess, 45.0ms inference, 0.0ms postprocess per image at shape (1, 3, 480, 640)\n",
      "Predicted Selling Price after considering damages: 450449.87\n"
     ]
    },
    {
     "name": "stderr",
     "output_type": "stream",
     "text": [
      "\n"
     ]
    }
   ],
   "source": [
    "# ------------------ Part 4: Combine Damage Detection and Car Price Prediction ------------------\n",
    "\n",
    "# Example raw input data including image path for damage detection\n",
    "raw_input_data = {\n",
    "    'year': 2014,\n",
    "    'km_driven': 145500,\n",
    "    'fuel': 'Diesel',\n",
    "    'seller_type': 'Individual',\n",
    "    'transmission': 'Manual',\n",
    "    'owner': 'First Owner',\n",
    "    'mileage': '23.4 kmpl',\n",
    "    'engine': '1248 CC',\n",
    "    'max_power': '74 bhp',\n",
    "    'torque': '190Nm',\n",
    "    'seats': 5,\n",
    "}\n",
    "\n",
    "# Detect damages from an image and predict price based on CSV data and damages detected.\n",
    "image_path = \"https://c8.alamy.com/comp/C05MX1/accident-damage-on-a-car-after-an-accident-C05MX1.jpg\"  # Path to the car image for damage detection\n",
    "\n",
    "# Detect the number of damages in the image\n",
    "damage_count = detect_damages(image_path)\n",
    "\n",
    "# Predict the car price using the preprocessed data\n",
    "predicted_price = preprocess_and_predict(raw_input_data)\n",
    "\n",
    "# Adjust price based on the number of damages detected (assuming each damage reduces price by 1000)\n",
    "final_price_estimate = predicted_price - (damage_count * 1000)\n",
    "\n",
    "print(f\"Predicted Selling Price after considering damages: {final_price_estimate}\")\n",
    "\n",
    "#in this code write after train only load models then make prediction"
   ]
  },
  {
   "cell_type": "code",
   "execution_count": null,
   "id": "3feaf5e2-6049-4311-b725-d9dab0ca6615",
   "metadata": {},
   "outputs": [],
   "source": []
  }
 ],
 "metadata": {
  "kernelspec": {
   "display_name": "Python 3 (ipykernel)",
   "language": "python",
   "name": "python3"
  },
  "language_info": {
   "codemirror_mode": {
    "name": "ipython",
    "version": 3
   },
   "file_extension": ".py",
   "mimetype": "text/x-python",
   "name": "python",
   "nbconvert_exporter": "python",
   "pygments_lexer": "ipython3",
   "version": "3.8.0"
  }
 },
 "nbformat": 4,
 "nbformat_minor": 5
}
